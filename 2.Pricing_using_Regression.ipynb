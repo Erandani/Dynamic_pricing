{
 "cells": [
  {
   "cell_type": "markdown",
   "id": "bd9678e2",
   "metadata": {},
   "source": [
    "### Dynamic Pricing Using Regression"
   ]
  },
  {
   "cell_type": "code",
   "execution_count": 1,
   "id": "184b26d1",
   "metadata": {},
   "outputs": [],
   "source": [
    "import numpy as np \n",
    "import pandas as pd \n",
    "from pandas import DataFrame \n",
    "import matplotlib.pyplot as plt \n",
    "%matplotlib inline\n",
    "# plt.style.use('fivethirtyeight')\n",
    "plt.style.context('fivethirtyeight')\n",
    "import seaborn as sns \n",
    "\n",
    "import statsmodels.api as sm \n",
    "from statsmodels.compat import lzip \n",
    "from statsmodels.formula.api import ols "
   ]
  },
  {
   "cell_type": "code",
   "execution_count": 4,
   "id": "095f4543",
   "metadata": {},
   "outputs": [
    {
     "data": {
      "text/html": [
       "<div>\n",
       "<style scoped>\n",
       "    .dataframe tbody tr th:only-of-type {\n",
       "        vertical-align: middle;\n",
       "    }\n",
       "\n",
       "    .dataframe tbody tr th {\n",
       "        vertical-align: top;\n",
       "    }\n",
       "\n",
       "    .dataframe thead th {\n",
       "        text-align: right;\n",
       "    }\n",
       "</style>\n",
       "<table border=\"1\" class=\"dataframe\">\n",
       "  <thead>\n",
       "    <tr style=\"text-align: right;\">\n",
       "      <th></th>\n",
       "      <th>Year</th>\n",
       "      <th>Quarter</th>\n",
       "      <th>Quantity</th>\n",
       "      <th>Price</th>\n",
       "    </tr>\n",
       "  </thead>\n",
       "  <tbody>\n",
       "    <tr>\n",
       "      <th>0</th>\n",
       "      <td>1977</td>\n",
       "      <td>1</td>\n",
       "      <td>22.9976</td>\n",
       "      <td>142.1667</td>\n",
       "    </tr>\n",
       "    <tr>\n",
       "      <th>1</th>\n",
       "      <td>1977</td>\n",
       "      <td>2</td>\n",
       "      <td>22.6131</td>\n",
       "      <td>143.9333</td>\n",
       "    </tr>\n",
       "    <tr>\n",
       "      <th>2</th>\n",
       "      <td>1977</td>\n",
       "      <td>3</td>\n",
       "      <td>23.4054</td>\n",
       "      <td>146.5000</td>\n",
       "    </tr>\n",
       "    <tr>\n",
       "      <th>3</th>\n",
       "      <td>1977</td>\n",
       "      <td>4</td>\n",
       "      <td>22.7401</td>\n",
       "      <td>150.8000</td>\n",
       "    </tr>\n",
       "    <tr>\n",
       "      <th>4</th>\n",
       "      <td>1978</td>\n",
       "      <td>1</td>\n",
       "      <td>22.0441</td>\n",
       "      <td>160.0000</td>\n",
       "    </tr>\n",
       "  </tbody>\n",
       "</table>\n",
       "</div>"
      ],
      "text/plain": [
       "   Year  Quarter  Quantity     Price\n",
       "0  1977        1   22.9976  142.1667\n",
       "1  1977        2   22.6131  143.9333\n",
       "2  1977        3   23.4054  146.5000\n",
       "3  1977        4   22.7401  150.8000\n",
       "4  1978        1   22.0441  160.0000"
      ]
     },
     "execution_count": 4,
     "metadata": {},
     "output_type": "execute_result"
    }
   ],
   "source": [
    "df = pd.read_csv('beef_prices.csv')\n",
    "df.head()"
   ]
  },
  {
   "cell_type": "markdown",
   "id": "6f98bc0f",
   "metadata": {},
   "source": [
    "### 1. Define Profit Function"
   ]
  },
  {
   "cell_type": "markdown",
   "id": "a6679f78",
   "metadata": {},
   "source": [
    "$profit = revenue - cost$\n",
    "\n",
    "$revenue = demand_{qt} * price$\n",
    "\n",
    "$profit = demand_{qt} * price - cost$"
   ]
  },
  {
   "cell_type": "markdown",
   "id": "d3104f2f",
   "metadata": {},
   "source": [
    "### 2. Define Demand Function"
   ]
  },
  {
   "cell_type": "markdown",
   "id": "9cc9fc29",
   "metadata": {},
   "source": [
    "need to establish relationship between demand and price based on historical data\n",
    "\n",
    "$demand_{qt} = f(price)$"
   ]
  },
  {
   "cell_type": "markdown",
   "id": "a2c9708c",
   "metadata": {},
   "source": [
    "this can be estimated using regression modelling "
   ]
  },
  {
   "cell_type": "code",
   "execution_count": 5,
   "id": "7c8566bd",
   "metadata": {},
   "outputs": [
    {
     "name": "stderr",
     "output_type": "stream",
     "text": [
      "C:\\Users\\Erandi_105563\\Anaconda3\\lib\\site-packages\\seaborn\\regression.py:581: UserWarning: The `size` parameter has been renamed to `height`; please update your code.\n",
      "  warnings.warn(msg, UserWarning)\n"
     ]
    },
    {
     "data": {
      "image/png": "[encoded data removed]",
      "text/plain": [
       "<Figure size 288x288 with 1 Axes>"
      ]
     },
     "metadata": {
      "needs_background": "light"
     },
     "output_type": "display_data"
    }
   ],
   "source": [
    "sns.lmplot( x=\"Price\", y=\"Quantity\", data=df, fit_reg=True, size=4)\n",
    "plt.title('Demand(Qty) vs price')\n",
    "plt.show()"
   ]
  },
  {
   "cell_type": "code",
   "execution_count": 9,
   "id": "c23b9b72",
   "metadata": {},
   "outputs": [
    {
     "name": "stdout",
     "output_type": "stream",
     "text": [
      "                            OLS Regression Results                            \n",
      "==============================================================================\n",
      "Dep. Variable:               Quantity   R-squared:                       0.901\n",
      "Model:                            OLS   Adj. R-squared:                  0.900\n",
      "Method:                 Least Squares   F-statistic:                     811.2\n",
      "Date:                Wed, 20 Jul 2022   Prob (F-statistic):           1.69e-46\n",
      "Time:                        14:19:51   Log-Likelihood:                -77.493\n",
      "No. Observations:                  91   AIC:                             159.0\n",
      "Df Residuals:                      89   BIC:                             164.0\n",
      "Df Model:                           1                                         \n",
      "Covariance Type:            nonrobust                                         \n",
      "==============================================================================\n",
      "                 coef    std err          t      P>|t|      [0.025      0.975]\n",
      "------------------------------------------------------------------------------\n",
      "Intercept     30.0515      0.413     72.701      0.000      29.230      30.873\n",
      "Price         -0.0465      0.002    -28.482      0.000      -0.050      -0.043\n",
      "==============================================================================\n",
      "Omnibus:                        3.453   Durbin-Watson:                   1.533\n",
      "Prob(Omnibus):                  0.178   Jarque-Bera (JB):                2.460\n",
      "Skew:                           0.237   Prob(JB):                        0.292\n",
      "Kurtosis:                       2.349   Cond. No.                     1.74e+03\n",
      "==============================================================================\n",
      "\n",
      "Notes:\n",
      "[1] Standard Errors assume that the covariance matrix of the errors is correctly specified.\n",
      "[2] The condition number is large, 1.74e+03. This might indicate that there are\n",
      "strong multicollinearity or other numerical problems.\n"
     ]
    }
   ],
   "source": [
    "# fit OLS model \n",
    "model = ols(\"Quantity ~ Price\", data=df).fit() \n",
    "# print model summary  \n",
    "print(model.summary())"
   ]
  },
  {
   "cell_type": "markdown",
   "id": "d89f3e1f",
   "metadata": {},
   "source": [
    "### 3. Parameterize the Profit Function"
   ]
  },
  {
   "cell_type": "markdown",
   "id": "a8e87f1e",
   "metadata": {},
   "source": [
    "$demand_{qt} = 30.0515−0.0465*price$"
   ]
  },
  {
   "cell_type": "markdown",
   "id": "0d63531e",
   "metadata": {},
   "source": [
    "$profit = (30.0515−0.0465*price)*price - cost$"
   ]
  },
  {
   "cell_type": "markdown",
   "id": "0db43c24",
   "metadata": {},
   "source": [
    "### 4. Evaluate the price with maximum profit"
   ]
  },
  {
   "cell_type": "code",
   "execution_count": 10,
   "id": "407b7390",
   "metadata": {},
   "outputs": [
    {
     "data": {
      "image/png": "[encoded data removed]",
      "text/plain": [
       "<Figure size 432x288 with 1 Axes>"
      ]
     },
     "metadata": {
      "needs_background": "light"
     },
     "output_type": "display_data"
    }
   ],
   "source": [
    "price = [320, 330,340,350, 360, 370, 380, 390] # a range of different prices to find the optimum one \n",
    "cost = 80 # a fixed cost in this case \n",
    "\n",
    "profit = [] \n",
    "for i in price:     \n",
    "    quantity_demanded=30.05-0.0465*i     \n",
    "    profit.append((i-cost)*quantity_demanded) # profit function  \n",
    "\n",
    "#create data frame of price and revenue  \n",
    "profit_df = pd.DataFrame({\"price\": price, \"profit\": profit}) \n",
    "#plot revenue against price \n",
    "plt.plot(profit_df[\"price\"], profit_df[\"profit\"])\n",
    "plt.xlabel('price')\n",
    "plt.ylabel('profit')\n",
    "plt.title('Profit distribution')\n",
    "plt.show()"
   ]
  },
  {
   "cell_type": "code",
   "execution_count": 11,
   "id": "2f12ab25",
   "metadata": {},
   "outputs": [
    {
     "data": {
      "text/html": [
       "<div>\n",
       "<style scoped>\n",
       "    .dataframe tbody tr th:only-of-type {\n",
       "        vertical-align: middle;\n",
       "    }\n",
       "\n",
       "    .dataframe tbody tr th {\n",
       "        vertical-align: top;\n",
       "    }\n",
       "\n",
       "    .dataframe thead th {\n",
       "        text-align: right;\n",
       "    }\n",
       "</style>\n",
       "<table border=\"1\" class=\"dataframe\">\n",
       "  <thead>\n",
       "    <tr style=\"text-align: right;\">\n",
       "      <th></th>\n",
       "      <th>price</th>\n",
       "      <th>profit</th>\n",
       "    </tr>\n",
       "  </thead>\n",
       "  <tbody>\n",
       "    <tr>\n",
       "      <th>4</th>\n",
       "      <td>360</td>\n",
       "      <td>3726.8</td>\n",
       "    </tr>\n",
       "  </tbody>\n",
       "</table>\n",
       "</div>"
      ],
      "text/plain": [
       "   price  profit\n",
       "4    360  3726.8"
      ]
     },
     "execution_count": 11,
     "metadata": {},
     "output_type": "execute_result"
    }
   ],
   "source": [
    "# price at which the revenue is maximum \n",
    "profit_df [profit_df['profit'] == profit_df ['profit'].max()]"
   ]
  },
  {
   "cell_type": "code",
   "execution_count": null,
   "id": "0fef6efc",
   "metadata": {},
   "outputs": [],
   "source": []
  }
 ],
 "metadata": {
  "kernelspec": {
   "display_name": "Python 3 (ipykernel)",
   "language": "python",
   "name": "python3"
  },
  "language_info": {
   "codemirror_mode": {
    "name": "ipython",
    "version": 3
   },
   "file_extension": ".py",
   "mimetype": "text/x-python",
   "name": "python",
   "nbconvert_exporter": "python",
   "pygments_lexer": "ipython3",
   "version": "3.9.7"
  }
 },
 "nbformat": 4,
 "nbformat_minor": 5
}
